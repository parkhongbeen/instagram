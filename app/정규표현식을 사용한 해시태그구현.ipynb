{
 "cells": [
  {
   "cell_type": "code",
   "execution_count": 7,
   "metadata": {},
   "outputs": [],
   "source": [
    "import re"
   ]
  },
  {
   "cell_type": "code",
   "execution_count": 24,
   "metadata": {},
   "outputs": [],
   "source": [
    "content = '''오늘은 #영화 보고 싶은날\n",
    "하지만 현실은 #학원#패스트캠퍼스#졸림#졸림'''"
   ]
  },
  {
   "cell_type": "markdown",
   "metadata": {},
   "source": [
    "- 다음 아무문자 반복되는 '해시태그'목록을 문자열 리스트로 가져오기\n",
    " - 다음 # 또는 공백이 오기전까지<br>결과:['영화','학원','패스트캠퍼스','졸림']\n",
    "- 위 해시태그에 해당하는 문자열을 '(태그:<해당문자열>)'이라는 문자로 치환하기<br>ex:오늘은 신나는 (태그:Django)웹프로그래밍스쿨 오는날"
   ]
  },
  {
   "cell_type": "code",
   "execution_count": 25,
   "metadata": {},
   "outputs": [
    {
     "data": {
      "text/plain": [
       "['영화', '학원', '패스트캠퍼스', '졸림', '졸림']"
      ]
     },
     "execution_count": 25,
     "metadata": {},
     "output_type": "execute_result"
    }
   ],
   "source": [
    "pattern = re.compile(\"#(\\w+)\")\n",
    "re.findall(pattern, content)"
   ]
  },
  {
   "cell_type": "code",
   "execution_count": 26,
   "metadata": {},
   "outputs": [
    {
     "data": {
      "text/plain": [
       "'오늘은 (태그: 영화) 보고 싶은날\\n하지만 현실은 (태그: 학원)(태그: 패스트캠퍼스)(태그: 졸림)(태그: 졸림)'"
      ]
     },
     "execution_count": 26,
     "metadata": {},
     "output_type": "execute_result"
    }
   ],
   "source": [
    "re.sub(pattern, '(태그: \\g<1>)', content)"
   ]
  },
  {
   "cell_type": "code",
   "execution_count": 27,
   "metadata": {},
   "outputs": [],
   "source": [
    "post = Post.objects.first()\n",
    "post.content = '#python #Django'\n",
    "post.save()"
   ]
  },
  {
   "cell_type": "code",
   "execution_count": 28,
   "metadata": {},
   "outputs": [
    {
     "name": "stdout",
     "output_type": "stream",
     "text": [
      "1\n",
      "#python #Django\n"
     ]
    }
   ],
   "source": [
    "print(post.pk)\n",
    "print(post.content)"
   ]
  },
  {
   "cell_type": "code",
   "execution_count": 72,
   "metadata": {},
   "outputs": [],
   "source": [
    "import re\n",
    "\n",
    "pattern = re.compile(\"#(\\w+)\")\n",
    "tag_name_list = re.findall(pattern, post.content)"
   ]
  },
  {
   "cell_type": "code",
   "execution_count": 73,
   "metadata": {},
   "outputs": [
    {
     "data": {
      "text/plain": [
       "<Tag: python>"
      ]
     },
     "execution_count": 73,
     "metadata": {},
     "output_type": "execute_result"
    }
   ],
   "source": [
    "Tag.objects.get_or_create(name='python')[0]"
   ]
  },
  {
   "cell_type": "code",
   "execution_count": 74,
   "metadata": {},
   "outputs": [],
   "source": [
    "for tag_name in tag_name_list:\n",
    "    tag = Tag.objects.get_or_create(name=tag_name)[0]\n",
    "    post.tags.add(tag)"
   ]
  },
  {
   "cell_type": "code",
   "execution_count": 75,
   "metadata": {},
   "outputs": [
    {
     "data": {
      "text/plain": [
       "<QuerySet [<Tag: python>, <Tag: Django>, <Tag: #python #Django>]>"
      ]
     },
     "execution_count": 75,
     "metadata": {},
     "output_type": "execute_result"
    }
   ],
   "source": [
    "post.tags.all()"
   ]
  },
  {
   "cell_type": "code",
   "execution_count": null,
   "metadata": {},
   "outputs": [],
   "source": []
  }
 ],
 "metadata": {
  "kernelspec": {
   "display_name": "Django Shell-Plus",
   "language": "python",
   "name": "django_extensions"
  },
  "language_info": {
   "codemirror_mode": {
    "name": "ipython",
    "version": 3
   },
   "file_extension": ".py",
   "mimetype": "text/x-python",
   "name": "python",
   "nbconvert_exporter": "python",
   "pygments_lexer": "ipython3",
   "version": "3.7.5"
  }
 },
 "nbformat": 4,
 "nbformat_minor": 2
}

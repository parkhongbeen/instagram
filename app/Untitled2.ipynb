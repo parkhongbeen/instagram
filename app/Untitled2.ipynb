{
 "cells": [
  {
   "cell_type": "code",
   "execution_count": 1,
   "metadata": {},
   "outputs": [],
   "source": [
    "# 1. Post중에서 자신에게 포함된 Comment들 중에 content속성(column)에 '이한영'이라는 문자열이 들어가는 경우인 Comment가 존재하는 Post목록\n",
    "#    - 일부 Post가 '이한영'이라는 내용을 포함하는 댓글을 가져야 함\n",
    "# 2. Post중에서 자신에게 포함된 Comment들 중에 Post의 author와 Comment의 author가 다른 경우인 Comment가 존재하는 Post목록\n",
    "#    - Post작성자 외에 다른 사용자가 댓글을 단 경우가 존재하여야 함\n",
    "#    - Django의 F Expression을 사용 <- 검색\n",
    "# 3. Tag중에서 자신에게 연결된 Post의 author의 pk가 1인 경우인 Tag목록\n",
    "#    - 없다면 author의 pk를 바꿔본다.\n",
    "# 4. Post중에서 자신의 좋아요(PostLike)가 존재하는 Post목록\n",
    "#    - Field lookup의 'isnull'항목 참조\n",
    "# 5. Comment중에서 자신의 Post의 좋아요가 존재하는 Commnet목록\n",
    "#    - Field lookup의 'isnull'항목 참조\n",
    "# 6. Comment중에서 자신의 Post에 속하는 가장 최근 PostLike가 1주일 이내인 Comment목록\n",
    "#    - from django.utils import timezone\n",
    "#    - 현재시간은 rimezone.now()로 가져올 수 있음"
   ]
  },
  {
   "cell_type": "code",
   "execution_count": null,
   "metadata": {},
   "outputs": [],
   "source": []
  }
 ],
 "metadata": {
  "kernelspec": {
   "display_name": "Django Shell-Plus",
   "language": "python",
   "name": "django_extensions"
  },
  "language_info": {
   "codemirror_mode": {
    "name": "ipython",
    "version": 3
   },
   "file_extension": ".py",
   "mimetype": "text/x-python",
   "name": "python",
   "nbconvert_exporter": "python",
   "pygments_lexer": "ipython3",
   "version": "3.7.5"
  }
 },
 "nbformat": 4,
 "nbformat_minor": 2
}

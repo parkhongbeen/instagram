{
 "cells": [
  {
   "cell_type": "code",
   "execution_count": 6,
   "metadata": {},
   "outputs": [
    {
     "data": {
      "text/plain": [
       "<QuerySet [<Post: wps | 2020-01-07 09:16:39.384049+00:00>, <Post: wps | 2020-01-08 09:18:14.770121+00:00>, <Post: wps | 2020-01-14 09:08:33.322195+00:00>, <Post: wps | 2020-01-14 09:29:54.642982+00:00>]>"
      ]
     },
     "execution_count": 6,
     "metadata": {},
     "output_type": "execute_result"
    }
   ],
   "source": [
    "Post.objects.all()"
   ]
  },
  {
   "cell_type": "code",
   "execution_count": 7,
   "metadata": {},
   "outputs": [
    {
     "data": {
      "text/plain": [
       "<QuerySet [<Tag: sdaf>, <Tag: qwer>, <Tag: python>, <Tag: Django>, <Tag: #python #Django>, <Tag: 1>, <Tag: 1234>, <Tag: Python>, <Tag: g>, <Tag: 라면>, <Tag: 신이주신선물>, <Tag: 그것은>, <Tag: 국밥>, <Tag: 신이내린축복>]>"
      ]
     },
     "execution_count": 7,
     "metadata": {},
     "output_type": "execute_result"
    }
   ],
   "source": [
    "Tag.objects.all()"
   ]
  },
  {
   "cell_type": "code",
   "execution_count": 8,
   "metadata": {},
   "outputs": [
    {
     "name": "stdout",
     "output_type": "stream",
     "text": [
      "sdaf: \n",
      "qwer: \n",
      "python: \n",
      "Django: \n",
      "#python #Django: \n",
      "1: \n",
      "1234: \n",
      "Python: \n",
      "g: \n",
      "라면: 13\n",
      "신이주신선물: 13\n",
      "그것은: 13,14\n",
      "국밥: 14\n",
      "신이내린축복: 14\n"
     ]
    }
   ],
   "source": [
    "for tag in Tag.objects.all():\n",
    "    result = '{tag}: {posts}'.format(\n",
    "        tag=tag.name,\n",
    "#        posts=','.join([str(post.pk) for post in tag.posts.all()]),\n",
    "    )\n",
    "    print(result)"
   ]
  },
  {
   "cell_type": "code",
   "execution_count": 28,
   "metadata": {},
   "outputs": [
    {
     "data": {
      "text/plain": [
       "<QuerySet [{'pk': 13}, {'pk': 14}]>"
      ]
     },
     "execution_count": 28,
     "metadata": {},
     "output_type": "execute_result"
    }
   ],
   "source": [
    "# 그것은 이라는 name을 가진 Tag를 자신의 tags목록에 갖고 있는 경우인 Post\n",
    "# filter의 조건(키워드)명으로\n",
    "# ManyToMany등, RelatedField의 Forwad연결이라면, 해당 필드명 사용\n",
    "# Backward의 경우\n",
    "# related_name이 지정되어 있다면, 사용\n",
    "# related_name이 지정되어있지 않다면, 연결되는 모델의 lowercase문자열\n",
    "# ->related_query_name)\n",
    "\n",
    "Post.objects.filter(tags__name='그것은').values('pk')"
   ]
  },
  {
   "cell_type": "code",
   "execution_count": null,
   "metadata": {},
   "outputs": [],
   "source": []
  }
 ],
 "metadata": {
  "kernelspec": {
   "display_name": "Django Shell-Plus",
   "language": "python",
   "name": "django_extensions"
  },
  "language_info": {
   "codemirror_mode": {
    "name": "ipython",
    "version": 3
   },
   "file_extension": ".py",
   "mimetype": "text/x-python",
   "name": "python",
   "nbconvert_exporter": "python",
   "pygments_lexer": "ipython3",
   "version": "3.7.5"
  }
 },
 "nbformat": 4,
 "nbformat_minor": 2
}
